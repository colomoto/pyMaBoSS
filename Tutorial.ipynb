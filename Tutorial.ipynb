{
 "cells": [
  {
   "cell_type": "markdown",
   "metadata": {},
   "source": [
    "# pyMaBoSS"
   ]
  },
  {
   "cell_type": "markdown",
   "metadata": {},
   "source": [
    "## A python interface for the MaBoSS software"
   ]
  },
  {
   "cell_type": "markdown",
   "metadata": {},
   "source": [
    "Here we show how to reproduce the step shown in the [MaBoSS tutorial](https://maboss.curie.fr/pub/TutorialMaBoSS_2_0.pdf)."
   ]
  },
  {
   "cell_type": "markdown",
   "metadata": {},
   "source": [
    "### Loading/Building the `Simulation` object"
   ]
  },
  {
   "cell_type": "markdown",
   "metadata": {},
   "source": [
    "Convert the file `example.zginml` in MaBoSS format as shown in the tutorial to produce two files, `example.bnd` and `example.cfg`. Once this step is over everything can be done within python.\n",
    "\n",
    "The files can be imported by the function `gsparser.build_network`."
   ]
  },
  {
   "cell_type": "code",
   "execution_count": 2,
   "metadata": {},
   "outputs": [],
   "source": [
    "from maboss.gsparser import build_network\n",
    "imported_sim = build_network('test/example')"
   ]
  },
  {
   "cell_type": "markdown",
   "metadata": {},
   "source": [
    "Note that you could also have build the `Simluation` object from scratch by describing every node of the network."
   ]
  },
  {
   "cell_type": "code",
   "execution_count": 4,
   "metadata": {},
   "outputs": [],
   "source": [
    "from maboss.network import Node, Network\n",
    "from maboss.simulation import Simulation\n",
    "\n",
    "nd_dnaDam = Node('DNAdam', '!p53_b1 & DNAdam', 1, 1)\n",
    "nd_p53_b1 = Node('p53_b1', '!p53_b2 & !Mdm2nuc | p53_b2', 1, 1)\n",
    "nd_p53_b2 = Node('p53_b2', 'p53_b1 & !Mdm2nuc', 1, 1)\n",
    "nd_mdm2cyt = Node('Mdm2cyt', 'p53_b1 & p53_b2', 1, 1)\n",
    "nd_mdm2nuc = Node('Mdm2nuc', '!p53_b1 & !Mdm2cyt & !DNAdam | !p53_b1 & Mdm2cyt| p53_b1 & Mdm2cyt', 1, 1)\n",
    "\n",
    "testNet = Network([nd_dnaDam, nd_p53_b1, nd_p53_b2, nd_mdm2cyt, nd_mdm2nuc])\n",
    "\n",
    "testNet.set_istate(['p53_b1', 'p53_b2'],\n",
    "                   {(0, 0): 1, (1, 0): 0, (1, 1): 0})\n",
    "testNet.set_istate('Mdm2cyt', [1, 0])\n",
    "testNet.set_istate('Mdm2nuc', [1, 0])\n",
    "testNet.set_istate('DNAdam', [0.4, 0.6])\n",
    "\n",
    "byHand_sim = Simulation(testNet)"
   ]
  },
  {
   "cell_type": "markdown",
   "metadata": {},
   "source": [
    "By default, (if the network was built from scratch or if the `.cfg` file did not contain the information for a given node), all nodes have the attribute `is_internal` set to `False`. This can be changed within the script"
   ]
  },
  {
   "cell_type": "code",
   "execution_count": 5,
   "metadata": {},
   "outputs": [],
   "source": [
    "imported_sim.network['DNAdam'].is_internal = True"
   ]
  },
  {
   "cell_type": "code",
   "execution_count": null,
   "metadata": {},
   "outputs": [],
   "source": []
  }
 ],
 "metadata": {
  "kernelspec": {
   "display_name": "Python 3",
   "language": "python",
   "name": "python3"
  },
  "language_info": {
   "codemirror_mode": {
    "name": "ipython",
    "version": 3
   },
   "file_extension": ".py",
   "mimetype": "text/x-python",
   "name": "python",
   "nbconvert_exporter": "python",
   "pygments_lexer": "ipython3",
   "version": "3.6.2"
  }
 },
 "nbformat": 4,
 "nbformat_minor": 2
}
