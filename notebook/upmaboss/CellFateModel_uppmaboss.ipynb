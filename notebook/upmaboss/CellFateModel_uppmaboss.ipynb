{
 "cells": [
  {
   "cell_type": "markdown",
   "metadata": {},
   "source": [
    "# UpPMaBoSS notebook for the cell fate model"
   ]
  },
  {
   "cell_type": "markdown",
   "metadata": {},
   "source": [
    "This Jupyter notebook implements all the analyses presented in the `UpPMaBoSS: a tool for dynamic cell population\n",
    "modeling` manuscript by Stoll et al., which will be available on [bioRxiv.org](https://www.biorxiv.org/search/uppmaboss) in the coming days (as of 2019-05-24).\n",
    "\n",
    "There are two options to run this notebook.\n",
    "\n",
    "1) With the corresponding docker image\n",
    "\n",
    "All necessary software and files are available in the\n",
    "[docker image for the CoLoMoTo notebook](http://www.colomoto.org/notebook)\n",
    "starting with version `2019-05-24`. Further information and usage instructions are available\n",
    "in the documentation of the CoLoMoTo notebook.\n",
    "Launch the docker application on your desktop using the *colomoto-docker* wrapper with the following command:\n",
    "\n",
    "    colomoto-docker -V 2019-05-24\n",
    "    \n",
    "This notebook can then be found in the folder: `usecases/Population-level Cell Fate with UpPMaBoSS`.\n",
    "\n",
    "\n",
    "2) By creating a conda environment locally\n",
    "\n",
    "We suggest to download miniconda3 and create an environment (here named named *umb*) with the following command:\n",
    "\n",
    "     conda create -n umb -c colomoto pymaboss notebook seaborn\n",
    "     \n",
    "To launch this environment, you need to activate it with the following command before launching the jupyter notebook:\n",
    "\n",
    "    conda activate umb\n",
    "    jupyter notebook"
   ]
  },
  {
   "cell_type": "markdown",
   "metadata": {},
   "source": [
    "UpPMaBoSS computes the evolution and the dynamics of a population of cells taking into account both their intracellular and intercellular regulations.\n",
    "\n",
    "Simulations with UpPMaBoSS are based on a logical model describing the intracellular regulations (logical regulatory graph complemented with logical rules), taking into account cell death, cell division, and intercellular communications. \n",
    "\n",
    "The logical model of an individual cell is described as a MaBoSS model. At predefined intervals, the simulation of the cell population is stopped and the status of each cell of the population is updated according to the value of the variables representing cell death and cell division, and the value of the variables accounting for the activation or inhibition of signals coming from other cells. The simulation is then continued with the updated conditions until the maximum simulation time is reached. Since MaBoSS results are probabilistic, the simulation outputs of UpPMaBoSS can be interpreted as the behaviour of a cell population. \n",
    "\n",
    "To run UpPMaBoSS, three files are needed: a model file (in BND format), a configuration file with the transition rates, the simulation parameters and the initial conditions (in CFG format), and a file defining the update parameters (in UPP format).\n"
   ]
  },
  {
   "cell_type": "markdown",
   "metadata": {},
   "source": [
    "The notebook presented illustrate the use of UpPMaBoSS with the analysis of a modified version of the cell fate model previously published by Calzone et al. (2010). Three files related to the logical model used for the analysis are provided together with this notebook:\n",
    "- the model files: *CellFateModel_uppmaboss.bnd* and *CellFateModel_uppmaboss.cfg*\n",
    "- the update configuration file for UpPMaBoSS: *CellFateModel_uppmaboss.upp* \n",
    "\n",
    "The code included in the following cell sets the working environment, and particular load different libraries required to run the notebook."
   ]
  },
  {
   "cell_type": "code",
   "execution_count": 1,
   "metadata": {
    "execution": {
     "iopub.execute_input": "2024-08-02T11:13:08.751596Z",
     "iopub.status.busy": "2024-08-02T11:13:08.751506Z",
     "iopub.status.idle": "2024-08-02T11:13:09.865833Z",
     "shell.execute_reply": "2024-08-02T11:13:09.865439Z",
     "shell.execute_reply.started": "2024-08-02T11:13:08.751586Z"
    },
    "scrolled": true
   },
   "outputs": [
    {
     "data": {
      "text/html": [
       "<script type=\"text/javascript\" id=\"colomoto-setup-4257855\" class=\"to-be-removed\">\n",
       "        if (typeof Jupyter != 'undefined') {\n",
       "            \n",
       "function detect_import(cell, module) {\n",
       "    var code = cell.get_text();\n",
       "    code = code.replace(/\\\\\\n/g, \"\");\n",
       "    var lines = code.split(\"\\n\");\n",
       "    var r_simple = new RegExp(\"^(\"+module+\")$\");\n",
       "    var r_alias = new RegExp(\"^\"+module+\"\\\\s+as\\\\s+(\\\\w+)$\");\n",
       "    for (var i = 0; i < lines.length; ++i) {\n",
       "        if (/^import\\s/.test(lines[i])) {\n",
       "            code = lines[i].substr(7);\n",
       "            var parts = code.split(\",\")\n",
       "            for (var j = 0; j < parts.length; ++j) {\n",
       "                code = parts[j].trim();\n",
       "                var m = code.match(r_simple);\n",
       "                if (!m) {\n",
       "                    m = code.match(r_alias);\n",
       "                }\n",
       "                if (m) {\n",
       "                    return m[1];\n",
       "                }\n",
       "            }\n",
       "        }\n",
       "    }\n",
       "    return module;\n",
       "}\n",
       "\n",
       "function colomoto_replace_call(cell, orig, dest, args, comment=false) {\n",
       "    var call_regexp = new RegExp(\"\\\\.\"+orig.replace(\".\",\"\\\\.\")+\"\\\\(\");\n",
       "    var call_replacer = new RegExp(\"\\\\.\"+orig.replace(\".\",\"\\\\.\")\n",
       "                    + \"\\\\(\\\\s*([^\\\\)]*)?\\\\)\");\n",
       "    var code = cell.get_text();\n",
       "    var lines = code.split(\"\\n\");\n",
       "    if (args) {\n",
       "        var strargs = \", \"+args.join(\", \");\n",
       "    } else {\n",
       "        var strargs = \"\";\n",
       "    }\n",
       "    for (var i = 0; i < lines.length; ++i) {\n",
       "        if (call_regexp.test(lines[i])) {\n",
       "            var code = \"\"\n",
       "            if (comment) {\n",
       "                code += \"#\"+lines[i]+\"\\n\";\n",
       "            }\n",
       "            code += lines[i].replace(call_replacer, \".\"+dest+\"($1\"+strargs+\")\")\n",
       "            lines[i] = code;\n",
       "        }\n",
       "    }\n",
       "    cell.set_text(code)\n",
       "}\n",
       "\n",
       "function colomoto_upload(Jupyter, ssid, input, py_callback_name, orig, dest) {\n",
       "\n",
       "    function callback(out_data) {\n",
       "        var cell_element = $(\"#\"+ssid).parents('.cell');\n",
       "        var cell_idx = Jupyter.notebook.get_cell_elements().index(cell_element);\n",
       "        var cell = Jupyter.notebook.get_cell(cell_idx);\n",
       "\n",
       "        var filename = out_data.content.text;\n",
       "\n",
       "        var code = cell.get_text();\n",
       "        code = code.replace(new RegExp(\"\\\\b\" + orig.replace('.', '\\\\.')\n",
       "                    + \"\\\\(\\\\s*((\\\\w+)=[^\\\\)]*)?\\\\)\"),\n",
       "                dest+\"(\\\"\"+filename+\"\\\",$1)\");\n",
       "        code = code.replace('\",)', '\")')\n",
       "        cell.set_text(code);\n",
       "\n",
       "        Jupyter.notebook.select(cell_idx);\n",
       "        Jupyter.notebook.execute_cell_and_select_below();\n",
       "    }\n",
       "\n",
       "    if (! (window.File && window.FileReader && window.FileList && window.Blob)) {\n",
       "        alert(\"Interactive file upload is not supported by your browser.\");\n",
       "        return;\n",
       "    }\n",
       "\n",
       "    input.disabled = true;\n",
       "    input.style.cursor = \"wait\";\n",
       "    input.parentElement.style.cursor = \"wait\";\n",
       "\n",
       "    var f = input.files[0];\n",
       "    var reader = new FileReader();\n",
       "    reader.onload = (function(f) {\n",
       "        return function (e) {\n",
       "            var obj = {\n",
       "                content: e.target.result,\n",
       "                name: f.name\n",
       "            };\n",
       "\n",
       "            //var pycb = py_callback_name+\"(\"+JSON.stringify(obj)+\")\"\n",
       "            // hack/workaround:\n",
       "            // it seems that Jupyter does not like very long lines\n",
       "            // so we split the data in chunks\n",
       "            var chunk_length = 100;\n",
       "            var pycb = \"__colomoto_upload_name = \" + JSON.stringify(obj.name) + \"\\n\";\n",
       "            pycb += \"__colomoto_upload_content = \\\\\\n\";\n",
       "            for (var i = 0; i < obj.content.length; i += chunk_length) {\n",
       "                pycb += \"\\\"\" + obj.content.substr(i, chunk_length)+\"\\\"\\\\\\n\"\n",
       "            }\n",
       "            pycb += \"\\n\"\n",
       "            pycb += py_callback_name+\"({'name':__colomoto_upload_name, 'content': __colomoto_upload_content})\\n\";\n",
       "            pycb += \"del __colomoto_upload_name, __colomoto_upload_content\"\n",
       "\n",
       "            IPython.notebook.kernel.execute(pycb, {iopub: {output: callback}});\n",
       "        };\n",
       "    })(f);\n",
       "    reader.readAsDataURL(f);\n",
       "}\n",
       "\n",
       "function resolve_function(tool_api, funcname) {\n",
       "    if (tool_api.hasOwnProperty(funcname)) {\n",
       "        return tool_api[funcname];\n",
       "    } else {\n",
       "        return window[funcname];\n",
       "    }\n",
       "}\n",
       "\n",
       "function colomoto_extension(Jupyter, ssid, name, menu, toolbar, tool_api) {\n",
       "\n",
       "    function insert_snippet_code(snippet) {\n",
       "        var cell = Jupyter.notebook.get_selected_cell();\n",
       "        Jupyter.notebook.edit_mode();\n",
       "        cell.code_mirror.replaceSelection(snippet, 'around');\n",
       "        //cell.focus_editor();\n",
       "    }\n",
       "\n",
       "    /**\n",
       "        from https://github.com/moble/jupyter_boilerplate/blob/master/main.js\n",
       "    */\n",
       "    function callback_insert_snippet (evt) {\n",
       "        // this (or event.currentTarget, see below) always refers to the DOM\n",
       "        // element the listener was attached to - see\n",
       "        // http://stackoverflow.com/questions/12077859\n",
       "        insert_snippet_code($(evt.currentTarget).data('snippet-code'));\n",
       "    }\n",
       "    function build_menu_element (menu_item_spec, direction) {\n",
       "        // Create the menu item html element\n",
       "        var element = $('<li/>');\n",
       "\n",
       "        if (typeof menu_item_spec == 'string') {\n",
       "            if (menu_item_spec != '---') {\n",
       "                return element.html(menu_item_spec)\n",
       "                        .addClass('ui-state-disabled')\n",
       "                        .attr({\"style\": \"padding:2px .4em\"})\n",
       "                       ;\n",
       "            }\n",
       "            return element.addClass('divider');\n",
       "        }\n",
       "\n",
       "        var a = $('<a/>')\n",
       "            .attr('href', '#')\n",
       "            .html(menu_item_spec.name)\n",
       "            .appendTo(element);\n",
       "        if (menu_item_spec.hasOwnProperty('snippet')) {\n",
       "            var snippet = menu_item_spec.snippet;\n",
       "            if (typeof snippet == 'string' || snippet instanceof String) {\n",
       "                snippet = [snippet];\n",
       "            }\n",
       "            a.attr({\n",
       "                'title' : \"\", // Do not remove this, even though it's empty!\n",
       "                'data-snippet-code' : snippet.join('\\n'),\n",
       "            })\n",
       "            .on('click', callback_insert_snippet)\n",
       "            .addClass('snippet');\n",
       "        }\n",
       "        else if (menu_item_spec.hasOwnProperty('internal-link')) {\n",
       "            a.attr('href', menu_item_spec['internal-link']);\n",
       "        }\n",
       "        else if (menu_item_spec.hasOwnProperty('external-link')) {\n",
       "            a.empty();\n",
       "            a.attr('href', menu_item_spec['external-link']);\n",
       "            a.attr({\n",
       "                'target' : '_blank',\n",
       "                'title' : 'Opens in a new window',\n",
       "            });\n",
       "            $('<i class=\"fa fa-external-link menu-icon pull-right\"/>').appendTo(a);\n",
       "            $('<span/>').html(menu_item_spec.name).appendTo(a);\n",
       "        }\n",
       "\n",
       "        if (menu_item_spec.hasOwnProperty('sub-menu')) {\n",
       "            element\n",
       "                .addClass('dropdown-submenu')\n",
       "                .toggleClass('dropdown-submenu-left', direction === 'left');\n",
       "            var sub_element = $('<ul class=\"dropdown-menu\"/>')\n",
       "                .toggleClass('dropdown-menu-compact', menu_item_spec.overlay === true) // For space-saving menus\n",
       "                .appendTo(element);\n",
       "\n",
       "            var new_direction = (menu_item_spec['sub-menu-direction'] === 'left') ? 'left' : 'right';\n",
       "            for (var j=0; j<menu_item_spec['sub-menu'].length; ++j) {\n",
       "                var sub_menu_item_spec = build_menu_element(menu_item_spec['sub-menu'][j], new_direction);\n",
       "                if(sub_menu_item_spec !== null) {\n",
       "                    sub_menu_item_spec.appendTo(sub_element);\n",
       "                }\n",
       "            }\n",
       "        }\n",
       "\n",
       "        return element;\n",
       "    }\n",
       "\n",
       "    function menu_setup (menu_item_specs, sibling, insert_before_sibling) {\n",
       "        for (var i=0; i<menu_item_specs.length; ++i) {\n",
       "            var menu_item_spec;\n",
       "            if (insert_before_sibling) {\n",
       "                menu_item_spec = menu_item_specs[i];\n",
       "            } else {\n",
       "                menu_item_spec = menu_item_specs[menu_item_specs.length-1-i];\n",
       "            }\n",
       "            var direction = (menu_item_spec['menu-direction'] == 'left') ? 'left' : 'right';\n",
       "            var menu_element = build_menu_element(menu_item_spec, direction);\n",
       "            // We need special properties if this item is in the navbar\n",
       "            if ($(sibling).parent().is('ul.nav.navbar-nav')) {\n",
       "                menu_element\n",
       "                    .addClass('dropdown')\n",
       "                    .removeClass('dropdown-submenu dropdown-submenu-left');\n",
       "                menu_element.children('a')\n",
       "                    .addClass('dropdown-toggle')\n",
       "                    .attr({\n",
       "                        'id': name+'_menu',\n",
       "                        'data-toggle' : 'dropdown',\n",
       "                        'aria-expanded' : 'false'\n",
       "                    });\n",
       "            }\n",
       "\n",
       "            // Insert the menu element into DOM\n",
       "            menu_element[insert_before_sibling ? 'insertBefore': 'insertAfter'](sibling);\n",
       "        }\n",
       "    }\n",
       "    /** end from */\n",
       "\n",
       "\n",
       "    function self_cleanup() {\n",
       "        var cell_element = $(\"script[class='to-be-removed']\").parents('.cell');\n",
       "        var cell_idx = Jupyter.notebook.get_cell_elements().index(cell_element);\n",
       "        var cell = Jupyter.notebook.get_cell(cell_idx);\n",
       "        var to_remove = -1;\n",
       "        for (var i = 0; i < cell.output_area.outputs.length; ++i) {\n",
       "            var oa = cell.output_area.outputs[i];\n",
       "            if (oa.output_type == \"display_data\"\n",
       "                && typeof oa.data[\"text/html\"] != 'undefined'\n",
       "                && oa.data[\"text/html\"].indexOf(' class=\"to-be-removed\"') >= 0) {\n",
       "                to_remove = i;\n",
       "                break;\n",
       "            }\n",
       "        }\n",
       "        if (to_remove == -1) {\n",
       "            console.log(\"cannot find toberemoved\");\n",
       "        } else {\n",
       "            cell.output_area.outputs.splice(to_remove, 1);\n",
       "        }\n",
       "    }\n",
       "\n",
       "    function toolbar_setup(actions) {\n",
       "        var buttons = [];\n",
       "        for (var i = 0; i < actions.length; ++i) {\n",
       "            var setup = actions[i].setup;\n",
       "            if (typeof setup.handler == 'string') {\n",
       "                setup.handler = resolve_function(tool_api, setup.handler);\n",
       "            }\n",
       "            buttons.push(Jupyter.actions.register(actions[i].setup,\n",
       "                actions[i].name, name));\n",
       "        }\n",
       "        $(\"#\"+name+\"-toolbar\").remove();\n",
       "        Jupyter.toolbar.add_buttons_group(buttons, name+\"-toolbar\");\n",
       "    }\n",
       "\n",
       "    function replace_menu_snippets(menu_spec, orig, dest) {\n",
       "        if (menu_spec.hasOwnProperty(\"snippet\")) {\n",
       "            var snippet = menu_spec.snippet;\n",
       "            if (typeof snippet == \"string\" || snippet instanceof String) {\n",
       "                menu_spec[\"snippet\"] = snippet.replace(orig, dest);\n",
       "            } else {\n",
       "                for (var i = 0; i < snippet.length; ++i) {\n",
       "                    menu_spec[\"snippet\"][i] = snippet[i].replace(orig, dest);\n",
       "                }\n",
       "            }\n",
       "        }\n",
       "        if (menu_spec.hasOwnProperty(\"sub-menu\")) {\n",
       "            for (var i = 0; i < menu_spec[\"sub-menu\"].length; ++i) {\n",
       "                replace_menu_snippets(menu_spec[\"sub-menu\"][i], orig, dest);\n",
       "            }\n",
       "        }\n",
       "    }\n",
       "\n",
       "    function load_ipython_extension() {\n",
       "\n",
       "        var mycellelt = $(\"#\"+ssid).parents('.cell');\n",
       "        var myidx = Jupyter.notebook.get_cell_elements().index(mycellelt);\n",
       "        var import_cell = Jupyter.notebook.get_cell(myidx);\n",
       "\n",
       "        var alias = detect_import(import_cell, name);\n",
       "        tool_api.module_alias = alias;\n",
       "        if (alias && alias != name) {\n",
       "            var orig = new RegExp(\"\\\\b\"+name+\"\\\\b\", \"g\");\n",
       "            replace_menu_snippets(menu, orig, alias);\n",
       "        }\n",
       "\n",
       "        if (toolbar) {\n",
       "            toolbar_setup(toolbar);\n",
       "        }\n",
       "\n",
       "        $(\"#\"+name+\"_menu\").parent().remove();\n",
       "        if (menu) {\n",
       "            menu_setup([menu], $(\"#help_menu\").parent(), true);\n",
       "        }\n",
       "\n",
       "        if (tool_api.hasOwnProperty(\"post_install_callback\")) {\n",
       "            tool_api.post_install_callback();\n",
       "        }\n",
       "\n",
       "        setTimeout(self_cleanup, 5000);\n",
       "    };\n",
       "\n",
       "    load_ipython_extension();\n",
       "}\n",
       "\n",
       "function resolve_toolbar_handlers(tool_api, toolbar_spec) {\n",
       "    for (var i = 0; i < toolbar_spec.length; ++i) {\n",
       "        func = resolve_function(tool_api, toolbar_spec[i][\"setup\"][\"handler\"]);\n",
       "        toolbar_spec[i][\"setup\"][\"handler\"] = func;\n",
       "    }\n",
       "    return toolbar_spec\n",
       "}\n",
       "\n",
       "\n",
       "    var minibn_jsapi = {  };\n",
       "    colomoto_extension(Jupyter, \"colomoto-setup-4257855\", \"minibn\", null, null, minibn_jsapi);\n",
       "     }</script>"
      ],
      "text/plain": [
       "<IPython.core.display.HTML object>"
      ]
     },
     "metadata": {},
     "output_type": "display_data"
    },
    {
     "data": {
      "text/html": [
       "<script type=\"text/javascript\" id=\"colomoto-setup-8336679\" class=\"to-be-removed\">\n",
       "        if (typeof Jupyter != 'undefined') {\n",
       "            \n",
       "    var mymodule_jsapi = {  };\n",
       "    colomoto_extension(Jupyter, \"colomoto-setup-8336679\", \"mymodule\", {\"name\": \"MaBoSS\", \"sub-menu\": [{\"name\": \"Load MaBoSS file\", \"snippet\": [\"masim = maboss.load(\\\"filename.bnd\\\", \\\"filename.cfg\\\")\"]}, {\"name\": \"Network\", \"sub-menu\": [{\"name\": \"Set istate\", \"snippet\": [\"maboss.wg_set_istate(masim)\"]}, {\"name\": \"Get initial state\", \"snippet\": [\"masim.get_initial_state()\"]}]}, {\"name\": \"Simulation\", \"sub-menu\": [{\"name\": \"Create mutant\", \"snippet\": [\"maboss.wg_make_mutant(masim)\"]}, {\"name\": \"Run\", \"snippet\": [\"simres = masim.run()\"]}, {\"name\": \"Set initial states\", \"snippet\": [\"masim.network.set_istate([\\\"mygenelist\\\"],{})\"]}, {\"name\": \"Set output\", \"snippet\": [\"maboss.wg_set_output(masim)\"]}]}, {\"name\": \"Results\", \"sub-menu\": [{\"name\": \"Save results\", \"snippet\": [\"simres.save(\\\"filename\\\")\"]}, {\"name\": \"Plot piechart\", \"snippet\": [\"simres.plot_piechart()\"]}, {\"name\": \"Plot trajectory\", \"snippet\": [\"simres.plot_trajectory()\"]}]}, {\"name\": \"Conversion\", \"sub-menu\": [{\"name\": \"Convert to biolqm\", \"snippet\": [\"biolqm_model = maboss.to_biolqm(masim)\"]}, {\"name\": \"Convert to minibn\", \"snippet\": [\"minibn_model = maboss.to_minibn(masim)\"]}]}, \"---\", {\"name\": \"Documentation\", \"external-link\": \"http://pymaboss.readthedocs.io\"}]}, null, mymodule_jsapi);\n",
       "     }</script><style type=\"text/css\">\n",
       "    #mymodule_menu {\n",
       "        color: green;\n",
       "        background-color: white;\n",
       "    }\n",
       "    </style>"
      ],
      "text/plain": [
       "<IPython.core.display.HTML object>"
      ]
     },
     "metadata": {},
     "output_type": "display_data"
    },
    {
     "data": {
      "text/html": [
       "<script type=\"text/javascript\" id=\"colomoto-setup-4494655\" class=\"to-be-removed\">\n",
       "        if (typeof Jupyter != 'undefined') {\n",
       "            \n",
       "    var biolqm_jsapi = { action_upload_model: function() {\n",
       "        var cell = Jupyter.notebook.get_selected_cell();\n",
       "        cell.set_text('lqm = '+biolqm_jsapi.module_alias+'.upload()');\n",
       "        cell.focus_editor();\n",
       "    } };\n",
       "    colomoto_extension(Jupyter, \"colomoto-setup-4494655\", \"biolqm\", {\"name\": \"bioLQM\", \"sub-menu\": [{\"name\": \"Upload model\", \"snippet\": [\"lqm = biolqm.upload()\"]}, {\"name\": \"Load model\", \"snippet\": [\"lqm = biolqm.load(\\\"model.sbml\\\")\"]}, \"---\", {\"name\": \"Export to file\", \"sub-menu\": [{\"name\": \"SBML-qual v1.0 (.sbml)\", \"snippet\": [\"biolqm.save(lqm, \\\"mymodel.sbml\\\", \\\"sbml\\\")\"]}, \"Functions formats\", {\"name\": \"BoolNet (.bnet)\", \"snippet\": [\"biolqm.save(lqm, \\\"mymodel.bnet\\\", \\\"bnet\\\")\"]}, {\"name\": \"BooleanNet (.booleannet)\", \"snippet\": [\"biolqm.save(lqm, \\\"mymodel.booleannet\\\", \\\"booleannet\\\")\"]}, {\"name\": \"BoolSim (.boolsim)\", \"snippet\": [\"biolqm.save(lqm, \\\"mymodel.boolsim\\\", \\\"boolsim\\\")\"]}, {\"name\": \"Raw Boolean functions (.boolfunctions)\", \"snippet\": [\"biolqm.save(lqm, \\\"mymodel.boolfunctions\\\", \\\"boolfunctions\\\")\"]}, {\"name\": \"Truth table (.tt)\", \"snippet\": [\"biolqm.save(lqm, \\\"mymodel.tt\\\", \\\"tt\\\")\"]}, \"Petri net formats\", {\"name\": \"APNN (.apnn)\", \"snippet\": [\"biolqm.save(lqm, \\\"mymodel.apnn\\\", \\\"apnn\\\")\"]}, {\"name\": \"INA (.ina)\", \"snippet\": [\"biolqm.save(lqm, \\\"mymodel.ina\\\", \\\"ina\\\")\"]}, {\"name\": \"PNML (.pnml)\", \"snippet\": [\"biolqm.save(lqm, \\\"mymodel.pnml\\\", \\\"pnml\\\")\"]}, \"Dedicated formats\", {\"name\": \"GINML (.ginml)\", \"snippet\": [\"biolqm.save(lqm, \\\"mymodel.ginml\\\", \\\"ginml\\\")\"]}, {\"name\": \"GNA non-xml (.gna)\", \"snippet\": [\"biolqm.save(lqm, \\\"mymodel.gna\\\", \\\"gna\\\")\"]}, {\"name\": \"MaBoSS (.bnd)\", \"snippet\": [\"biolqm.save(lqm, \\\"mymodel.bnd\\\", \\\"bnd\\\")\"]}, {\"name\": \"Pint (.an)\", \"snippet\": [\"biolqm.save(lqm, \\\"mymodel.an\\\", \\\"an\\\")\"]}]}, {\"name\": \"Convert to tool\", \"sub-menu\": [{\"name\": \"GINsim\", \"snippet\": [\"lrg = biolqm.to_ginsim(lqm)\"]}, {\"name\": \"MaBoSS\", \"snippet\": [\"masim = biolqm.to_maboss(lqm)\"]}, {\"name\": \"Pint\", \"snippet\": [\"an = biolqm.to_pint(lqm)\"]}]}, \"---\", {\"name\": \"Compute fixpoints\", \"snippet\": [\"fps = biolqm.fixpoints(lqm)\"]}, {\"name\": \"Compute trap spaces\", \"snippet\": [\"traps = biolqm.trapspace(lqm)\"]}, \"---\", {\"name\": \"Model modifications\", \"sub-menu\": [{\"name\": \"Perturbation\", \"snippet\": [\"lqm_mod = biolqm.perturbation(lqm, \\\"node%0\\\")\"]}, {\"name\": \"Booleanization\", \"snippet\": [\"lqm_bool = biolqm.booleanize(lqm)\"]}, {\"name\": \"Reduction\", \"snippet\": [\"lqm_red = biolqm.reduce(lqm, \\\"fixed,output,duplicate\\\")\"]}, {\"name\": \"Reversal\", \"snippet\": [\"lqm_rev = biolqm.reverse(lqm)\"]}, {\"name\": \"Sanitize\", \"snippet\": [\"lqm_san = biolqm.sanitize(lqm)\"]}]}, \"---\", {\"name\": \"Documentation\", \"external-link\": \"http://ginsim.naldi.info/biolqm/site/doc/index.html\"}]}, [{\"name\": \"upload\", \"setup\": {\"icon\": \"fa-upload\", \"help\": \"Upload model\", \"handler\": \"action_upload_model\"}}], biolqm_jsapi);\n",
       "     }</script><style type=\"text/css\">\n",
       "    #biolqm_menu {\n",
       "        color: #00007f;\n",
       "        background-color: white;\n",
       "    }\n",
       "    \n",
       "    div#biolqm-toolbar:before {\n",
       "        content: \"bioLQM\";\n",
       "        float: left;\n",
       "        margin-left: 1em;\n",
       "        margin-right: 1em;\n",
       "        margin-top: 0.2em;\n",
       "    }\n",
       "    div#biolqm-toolbar,\n",
       "    div#biolqm-toolbar button {\n",
       "        color: #00007f;\n",
       "    }\n",
       "    </style>"
      ],
      "text/plain": [
       "<IPython.core.display.HTML object>"
      ]
     },
     "metadata": {},
     "output_type": "display_data"
    },
    {
     "data": {
      "text/html": [
       "<script type=\"text/javascript\" id=\"colomoto-setup-7201048\" class=\"to-be-removed\">\n",
       "        if (typeof Jupyter != 'undefined') {\n",
       "            \n",
       "    var ginsim_jsapi = { action_upload_model: function() {\n",
       "        var cell = Jupyter.notebook.get_selected_cell();\n",
       "        cell.set_text('lrg = '+ginsim_jsapi.module_alias+'.upload()');\n",
       "        cell.focus_editor();\n",
       "    } };\n",
       "    colomoto_extension(Jupyter, \"colomoto-setup-7201048\", \"ginsim\", {\"name\": \"GINsim\", \"sub-menu\": [{\"name\": \"Upload model\", \"snippet\": [\"lrg = ginsim.upload()\"]}, {\"name\": \"Load model\", \"snippet\": [\"lrg = ginsim.load(\\\"model.zginml\\\")\"]}, \"---\", {\"name\": \"Export to file\", \"sub-menu\": [{\"name\": \"MaBoSS (.bnd, .cfg)\", \"snippet\": [\"ginsim.service(\\\"maboss\\\").export(lrg, \\\"mymodel.bnd\\\")\"]}]}, {\"name\": \"Convert to tool\", \"sub-menu\": [{\"name\": \"bioLQM\", \"snippet\": [\"lqm = ginsim.to_biolqm(lrg)\"]}, {\"name\": \"MaBoSS\", \"snippet\": [\"masim = ginsim.to_maboss(lrg)\"]}, {\"name\": \"NuSMV\", \"snippet\": [\"smv = ginsim.to_nusmv(lrg)\"]}, {\"name\": \"Pint\", \"snippet\": [\"an = ginsim.to_pint(lrg)\"]}]}, \"---\", {\"name\": \" Display regulatory graph\", \"snippet\": [\"ginsim.show(lrg)\"]}]}, [{\"name\": \"upload\", \"setup\": {\"icon\": \"fa-upload\", \"help\": \"Upload model\", \"handler\": \"action_upload_model\"}}], ginsim_jsapi);\n",
       "     }</script><style type=\"text/css\">\n",
       "    #ginsim_menu {\n",
       "        color: blue;\n",
       "        background-color: white;\n",
       "    }\n",
       "    \n",
       "    div#ginsim-toolbar:before {\n",
       "        content: \"GINsim\";\n",
       "        float: left;\n",
       "        margin-left: 1em;\n",
       "        margin-right: 1em;\n",
       "        margin-top: 0.2em;\n",
       "    }\n",
       "    div#ginsim-toolbar,\n",
       "    div#ginsim-toolbar button {\n",
       "        color: blue;\n",
       "    }\n",
       "    </style>"
      ],
      "text/plain": [
       "<IPython.core.display.HTML object>"
      ]
     },
     "metadata": {},
     "output_type": "display_data"
    }
   ],
   "source": [
    "# Set up working environment\n",
    "import matplotlib.pyplot as plt\n",
    "from matplotlib.patches import Rectangle\n",
    "import seaborn as sns\n",
    "import pandas as pd\n",
    "import numpy as np\n",
    "import os\n",
    "import shutil\n",
    "import maboss\n",
    "import ginsim\n",
    "\n",
    "\n",
    "# Set seaborn style and create color maps: white-black scale and blue-light-red for ratios\n",
    "sns.set_style(\"white\")\n",
    "colormap_scale = sns.light_palette(\"black\", as_cmap=True)\n",
    "colormap_ratios = sns.diverging_palette(240, 0, center='light', as_cmap=True)\n",
    "\n",
    "# Shortcut to save figures with a common pattern and format\n",
    "def save_figure(figure, title):\n",
    "    figure.savefig(\"figure_%s.pdf\" % title, bbox_inches=\"tight\")"
   ]
  },
  {
   "cell_type": "markdown",
   "metadata": {},
   "source": [
    "The original cell fate model (Calzone et al., 2010) was defined to study the cell fate decision process in response to the engagement of the death receptors TNFR and Fas.  Depending to the presence of the corresponding  ligands, several pathways can be activated: survival through NFkB activation, death through necrosis (NonACD), or apoptosis. \n",
    "This model has been extended to account for a documented activation of TNFalpha by NFkB (bold arrow), as well as by the addition of two output nodes DIVISION and DEATH, as shown in the regulatory graph using GINsim with the following command line. "
   ]
  },
  {
   "cell_type": "code",
   "execution_count": 2,
   "metadata": {
    "execution": {
     "iopub.execute_input": "2024-08-02T11:13:09.867414Z",
     "iopub.status.busy": "2024-08-02T11:13:09.866944Z",
     "iopub.status.idle": "2024-08-02T11:13:11.862847Z",
     "shell.execute_reply": "2024-08-02T11:13:11.862464Z",
     "shell.execute_reply.started": "2024-08-02T11:13:09.867393Z"
    }
   },
   "outputs": [
    {
     "data": {
      "text/markdown": [
       "Downloading http://ginsim.org/sites/default/files/CellFate_multiscale.zginml"
      ],
      "text/plain": [
       "<IPython.core.display.Markdown object>"
      ]
     },
     "metadata": {},
     "output_type": "display_data"
    },
    {
     "name": "stderr",
     "output_type": "stream",
     "text": [
      "Do not forget attaching \"CellFate_multiscale.zginml\" file with your notebook\n"
     ]
    },
    {
     "data": {
      "text/html": [
       "Using local file <a href='CellFate_multiscale.zginml' target='_blank'>CellFate_multiscale.zginml</a><br>"
      ],
      "text/plain": [
       "/home/vincent/Work/code/pyMaBoSS/notebook/upmaboss/CellFate_multiscale.zginml"
      ]
     },
     "metadata": {},
     "output_type": "display_data"
    },
    {
     "data": {
      "text/html": [
       "<img class=\"unconfined\" width=\"100%\" src=\"data:image/svg+xml;base64,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\">"
      ],
      "text/plain": [
       "<IPython.core.display.HTML object>"
      ]
     },
     "execution_count": 2,
     "metadata": {},
     "output_type": "execute_result"
    }
   ],
   "source": [
    "lrg = ginsim.load(\"http://ginsim.org/sites/default/files/CellFate_multiscale.zginml\")\n",
    "ginsim.show(lrg)"
   ]
  },
  {
   "cell_type": "markdown",
   "metadata": {},
   "source": [
    "The BND file lists all the logical rules for each of the variables.\n",
    "The CFG file defines all the parameters for the simulations (transition rates, simulation parameters and initial conditions).\n",
    "The UPP file informs on the intercellular conditions and population updates.\n",
    "These files are loaded with the code contained in the following cell."
   ]
  },
  {
   "cell_type": "code",
   "execution_count": 3,
   "metadata": {
    "execution": {
     "iopub.execute_input": "2024-08-02T11:13:11.863391Z",
     "iopub.status.busy": "2024-08-02T11:13:11.863273Z",
     "iopub.status.idle": "2024-08-02T11:13:11.865533Z",
     "shell.execute_reply": "2024-08-02T11:13:11.865145Z",
     "shell.execute_reply.started": "2024-08-02T11:13:11.863382Z"
    }
   },
   "outputs": [],
   "source": [
    "# Set up the required files\n",
    "bnd_file =\"CellFateModel_uppmaboss.bnd\"\n",
    "cfg_WT = \"CellFateModel_uppmaboss.cfg\"\n",
    "upp_file = \"CellFateModel_uppmaboss.upp\""
   ]
  },
  {
   "cell_type": "markdown",
   "metadata": {},
   "source": [
    "### MaBoSS simulation of the wild type model"
   ]
  },
  {
   "cell_type": "markdown",
   "metadata": {},
   "source": [
    "Before running UpPMaBoSS, we strongly suggest to run an initial simulation of the wild type model with MaBoSS for the whole simulation time. This enables the user to verify how the population behaves in a normal MaBoSS run without taking into account cell death or cell division.  Here, the total (virtual) simulation time is 48 hours. \n",
    "The output results are restricted to the three model nodes \"Death\", \"Division\" and \"NFkB\". Other nodes can be considered in the output, but the most important is to select all the nodes that are used for population updating, as shown in the UPP file below. By considering these nodes in the output, MaBoSS computes explicitly the values of these nodes."
   ]
  },
  {
   "cell_type": "code",
   "execution_count": 4,
   "metadata": {
    "execution": {
     "iopub.execute_input": "2024-08-02T11:13:11.866378Z",
     "iopub.status.busy": "2024-08-02T11:13:11.866179Z",
     "iopub.status.idle": "2024-08-02T11:13:11.868922Z",
     "shell.execute_reply": "2024-08-02T11:13:11.868489Z",
     "shell.execute_reply.started": "2024-08-02T11:13:11.866364Z"
    }
   },
   "outputs": [
    {
     "name": "stdout",
     "output_type": "stream",
     "text": [
      "death = Death;\n",
      "division = Division ;\n",
      "$TNF_induc u= $ProdTNF_NFkB*p[(NFkB,Death) = (1,0)];\n",
      "steps = 48;\n",
      "MaBoSS = MaBoSS\n",
      "\n"
     ]
    }
   ],
   "source": [
    "ufile = open(upp_file, 'r') \n",
    "print(ufile.read())\n",
    "ufile.close()"
   ]
  },
  {
   "cell_type": "markdown",
   "metadata": {},
   "source": [
    "Note that the variable \"Death\" monitors death by apoptosis or by non-apoptotic cell death, while the variable \"Division\" reports the activity of NFkB.\n",
    "\n",
    "The following command lines load the wildtype model and set the maximal global simulation time to 48 hours:"
   ]
  },
  {
   "cell_type": "code",
   "execution_count": 5,
   "metadata": {
    "execution": {
     "iopub.execute_input": "2024-08-02T11:13:11.869451Z",
     "iopub.status.busy": "2024-08-02T11:13:11.869338Z",
     "iopub.status.idle": "2024-08-02T11:13:11.934668Z",
     "shell.execute_reply": "2024-08-02T11:13:11.934232Z",
     "shell.execute_reply.started": "2024-08-02T11:13:11.869440Z"
    }
   },
   "outputs": [],
   "source": [
    "# Load the Wild-Type model\n",
    "model_WT = maboss.load(bnd_file, cfg_WT)\n",
    "\n",
    "# Set some parameters in the cfg file: \"max_time\" \n",
    "# and select the variables considered to be internal (not appearing in the resulting csv file)\n",
    "# here, only the two outputs will appear: Death and Division in the figures\n",
    "model_48h = maboss.copy_and_update_parameters(model_WT, {'max_time':48})\n",
    "for name in \"mcIAP mXIAP mROS NonACD Apoptosis Survival TNF ATP FADD cIAP FASL TNFR DISC_TNF DISC_FAS RIP1 RIP1ub RIP1K IKK CASP8 BAX BCL2 ROS MPT MOMP SMAC Cyt_c XIAP apoptosome CASP3 cFLIP\".split(' '):\n",
    "    model_48h.network[name].is_internal = True\n"
   ]
  },
  {
   "cell_type": "markdown",
   "metadata": {},
   "source": [
    "Next, we define the nodes considered in the output and launch the simulation with the following command lines:"
   ]
  },
  {
   "cell_type": "code",
   "execution_count": 6,
   "metadata": {
    "execution": {
     "iopub.execute_input": "2024-08-02T11:13:11.935075Z",
     "iopub.status.busy": "2024-08-02T11:13:11.934982Z",
     "iopub.status.idle": "2024-08-02T11:13:12.790897Z",
     "shell.execute_reply": "2024-08-02T11:13:12.790384Z",
     "shell.execute_reply.started": "2024-08-02T11:13:11.935066Z"
    }
   },
   "outputs": [],
   "source": [
    "model_48h.network.set_output(('Death','Division','NFkB'))\n",
    "run_48h = model_48h.run()"
   ]
  },
  {
   "cell_type": "markdown",
   "metadata": {},
   "source": [
    "The result of the simulation can be displayed with the following command line:"
   ]
  },
  {
   "cell_type": "code",
   "execution_count": 7,
   "metadata": {
    "execution": {
     "iopub.execute_input": "2024-08-02T11:13:12.791895Z",
     "iopub.status.busy": "2024-08-02T11:13:12.791771Z",
     "iopub.status.idle": "2024-08-02T11:13:12.934536Z",
     "shell.execute_reply": "2024-08-02T11:13:12.934095Z",
     "shell.execute_reply.started": "2024-08-02T11:13:12.791885Z"
    },
    "scrolled": true
   },
   "outputs": [
    {
     "data": {
      "text/plain": [
       "<Axes: >"
      ]
     },
     "execution_count": 7,
     "metadata": {},
     "output_type": "execute_result"
    },
    {
     "data": {
      "image/png": "[encoded data removed]",
      "text/plain": [
       "<Figure size 640x480 with 1 Axes>"
      ]
     },
     "metadata": {},
     "output_type": "display_data"
    }
   ],
   "source": [
    "# Plot the results of the WT simulation\n",
    "run_48h.get_states_probtraj().plot()\n",
    "\n",
    "# Note that the model state <nil> means that none of the external variables are ON. "
   ]
  },
  {
   "cell_type": "markdown",
   "metadata": {},
   "source": [
    "This graph shows the mean temporal profiles of the nodes Death, Division and NFkB computed for 100,000 single cell (as specified in the BND file) simulations over 48h. "
   ]
  },
  {
   "cell_type": "markdown",
   "metadata": {},
   "source": [
    "### UpPMaBoSS simulations"
   ]
  },
  {
   "cell_type": "markdown",
   "metadata": {},
   "source": [
    "We now wish to explore the population dynamics for the cell fate model considering cell death, cell division and intercellular events. \n",
    "To do so, we divide the 48 hours into 48 runs (the variable \"steps\" is set to 48 in CellFateModel_uppmaboss.upp file) of 1 for each time steps (the variable \"max_time\" is set to 1 in CellFateModel_uppmaboss.cfg file). This choice of the value 1 is based on the analysis of the profile of the MaBoSS simulation above, as such a time-step enables to capture transient changes of activities of the output nodes Death, Division and NFkB."
   ]
  },
  {
   "cell_type": "markdown",
   "metadata": {},
   "source": [
    "#### Wild Type simulations with and without the feedback"
   ]
  },
  {
   "cell_type": "markdown",
   "metadata": {},
   "source": [
    "We consider two conditions: when the cells evolve without inter-cellular communication (model referred to as \"NoFB\") and when the presence of NFkB affects that status of other cells (model referred to as \"WT\"). The model with the feedback considers that NFkB activates TNFR in other cells. "
   ]
  },
  {
   "cell_type": "markdown",
   "metadata": {},
   "source": [
    "The following code cell run UpPMaBoSS on the WT model, calling iteratively 48 times MaBoSS and updating the input variables between each of these calls."
   ]
  },
  {
   "cell_type": "code",
   "execution_count": 8,
   "metadata": {
    "execution": {
     "iopub.execute_input": "2024-08-02T11:13:12.935205Z",
     "iopub.status.busy": "2024-08-02T11:13:12.935086Z",
     "iopub.status.idle": "2024-08-02T11:13:30.608663Z",
     "shell.execute_reply": "2024-08-02T11:13:30.608114Z",
     "shell.execute_reply.started": "2024-08-02T11:13:12.935194Z"
    }
   },
   "outputs": [],
   "source": [
    "# Run UpPMaBoSS on the WT model and collect population ratios\n",
    "# A folder named \"WT\" \"is created with the 48 runs\n",
    "uppModel_WT = maboss.UpdatePopulation(model_WT, upp_file)\n",
    "run_WT = uppModel_WT.run('WT')\n",
    "pop_ratios_WT = run_WT.get_population_ratios('NFkB -> TNF')"
   ]
  },
  {
   "cell_type": "markdown",
   "metadata": {},
   "source": [
    "Next, we create a model variant and launch a 48h UpPMaBoSS simulation for the NoFB model:"
   ]
  },
  {
   "cell_type": "code",
   "execution_count": 9,
   "metadata": {
    "execution": {
     "iopub.execute_input": "2024-08-02T11:13:30.609097Z",
     "iopub.status.busy": "2024-08-02T11:13:30.608990Z",
     "iopub.status.idle": "2024-08-02T11:13:37.303670Z",
     "shell.execute_reply": "2024-08-02T11:13:37.303293Z",
     "shell.execute_reply.started": "2024-08-02T11:13:30.609088Z"
    }
   },
   "outputs": [],
   "source": [
    "# Create a variant without the population feedback NFkB -> TNF\n",
    "model_NoFB = maboss.copy_and_update_parameters(model_WT, {'$ProdTNF_NFkB': 0})\n",
    "\n",
    "# Run UpPMaBoSS for the model without population feedback\n",
    "# A folder named \"NoFB\" \"is created with the 48 runs\n",
    "uppModel_NoFB = maboss.UpdatePopulation(model_NoFB, upp_file)\n",
    "run_NoFB = uppModel_NoFB.run('NoFB')\n",
    "pop_ratios_NoFB = run_NoFB.get_population_ratios('No NFkB -> TNF')"
   ]
  },
  {
   "cell_type": "markdown",
   "metadata": {},
   "source": [
    "We can now display the results of the two previous UpPMaBoSS simulation in a single graph with the following command lines:"
   ]
  },
  {
   "cell_type": "code",
   "execution_count": 10,
   "metadata": {
    "execution": {
     "iopub.execute_input": "2024-08-02T11:13:37.304101Z",
     "iopub.status.busy": "2024-08-02T11:13:37.304002Z",
     "iopub.status.idle": "2024-08-02T11:13:37.517640Z",
     "shell.execute_reply": "2024-08-02T11:13:37.517158Z",
     "shell.execute_reply.started": "2024-08-02T11:13:37.304092Z"
    },
    "scrolled": true
   },
   "outputs": [
    {
     "data": {
      "image/png": "[encoded data removed]",
      "text/plain": [
       "<Figure size 600x500 with 1 Axes>"
      ]
     },
     "metadata": {},
     "output_type": "display_data"
    }
   ],
   "source": [
    "# Plot population ratio with/without population feedback\n",
    "# A figure is saved in the folder with the name: \"figure_ratios.pdf\"\n",
    "figure = plt.figure(figsize = (6,5))\n",
    "plt.rcParams.update({'legend.fontsize': 15})\n",
    "pop_ratios_WT.plot(style='.-k', legend=True,fontsize=15)\n",
    "pop_ratios_NoFB.plot(style='.-b', legend=True)\n",
    "save_figure(figure, 'ratios')"
   ]
  },
  {
   "cell_type": "markdown",
   "metadata": {},
   "source": [
    "In this graph, comparing the curves obtained after a pulse of TNF at t = 0 in the absence (blue curve) or in the presence (black curve) of the feedback from NFκB to TNFα, we see that the TNF paracrine loop leads to a significant decrease of the population size."
   ]
  },
  {
   "cell_type": "markdown",
   "metadata": {},
   "source": [
    "#### Comparative simulations of different TNF treatments"
   ]
  },
  {
   "cell_type": "markdown",
   "metadata": {},
   "source": [
    "In this section, we simulate the effect of several scenarios for TNF treatments on the wild type cell fate model. "
   ]
  },
  {
   "cell_type": "markdown",
   "metadata": {},
   "source": [
    "We first run a simulation for 48 hours without TNF treatment. "
   ]
  },
  {
   "cell_type": "code",
   "execution_count": 11,
   "metadata": {
    "execution": {
     "iopub.execute_input": "2024-08-02T11:13:37.518538Z",
     "iopub.status.busy": "2024-08-02T11:13:37.518181Z",
     "iopub.status.idle": "2024-08-02T11:13:39.102228Z",
     "shell.execute_reply": "2024-08-02T11:13:39.101809Z",
     "shell.execute_reply.started": "2024-08-02T11:13:37.518524Z"
    }
   },
   "outputs": [],
   "source": [
    "# Create a model with no TNF (TNF OFF)\n",
    "model_noTNF = model_WT.copy()\n",
    "model_noTNF.network.set_istate('TNF', [1,0])\n",
    "\n",
    "# Run UpPMaBoSS for the model with no TNF\n",
    "# A folder named \"noTNF\" \"is created with the 48 runs\n",
    "uppModel_noTNF = maboss.UpdatePopulation(model_noTNF, upp_file)\n",
    "run_noTNF = uppModel_noTNF.run('noTNF')\n",
    "pop_ratios_noTNF = run_noTNF.get_population_ratios('No pulse TNF')"
   ]
  },
  {
   "cell_type": "markdown",
   "metadata": {},
   "source": [
    "We then simulate a constant treatment for another 48h on a population of cells that received an initial TNF treatment (reTNF) and compare this simulation with the treatment of a population that was not initially treated with TNF (reTNF_noTNF)."
   ]
  },
  {
   "cell_type": "code",
   "execution_count": 12,
   "metadata": {
    "execution": {
     "iopub.execute_input": "2024-08-02T11:13:39.102702Z",
     "iopub.status.busy": "2024-08-02T11:13:39.102604Z",
     "iopub.status.idle": "2024-08-02T11:14:10.218479Z",
     "shell.execute_reply": "2024-08-02T11:14:10.218147Z",
     "shell.execute_reply.started": "2024-08-02T11:13:39.102693Z"
    }
   },
   "outputs": [],
   "source": [
    "# Create a model for a second treatment of TNF\n",
    "model_reTNF = maboss.copy_and_update_parameters(model_WT, {'$TNF_induc': 20})\n",
    "\n",
    "# Run UpPMaBoSS for the second treatment of TNF after a WT run with TNF ON\n",
    "# A folder named \"reTNF\" \"is created with the 48 runs\n",
    "uppModel_reTNF = maboss.UpdatePopulation(model_reTNF, upp_file, previous_run=run_WT)\n",
    "run_reTNF = uppModel_reTNF.run('reTNF')\n",
    "pop_ratios_reTNF = run_reTNF.get_population_ratios('TNF')\n",
    "\n",
    "# Run UpPMaBoSS for a treatment of TNF after a run with no TNF (where TNF was initially OFF)\n",
    "# A folder named \"noTNF_reTNF\" \"is created with the 48 runs\n",
    "uppModel_noTNF_reTNF = maboss.UpdatePopulation(model_reTNF, upp_file, previous_run=run_noTNF)\n",
    "run_noTNF_reTNF = uppModel_noTNF_reTNF.run('noTNF_reTNF')\n",
    "pop_ratios_noTNF_reTNF = run_noTNF_reTNF.get_population_ratios('TNF')"
   ]
  },
  {
   "cell_type": "markdown",
   "metadata": {},
   "source": [
    "Next, we plot the population ratios computed for the two protocols: \n",
    "1. (Pulse of TNF) + TNF (or WT + reTNF), \n",
    "2. (no pulse of TNF) + TNF (noTNF + reTNF_noTNF). "
   ]
  },
  {
   "cell_type": "code",
   "execution_count": 13,
   "metadata": {
    "execution": {
     "iopub.execute_input": "2024-08-02T11:14:10.219004Z",
     "iopub.status.busy": "2024-08-02T11:14:10.218887Z",
     "iopub.status.idle": "2024-08-02T11:14:10.422045Z",
     "shell.execute_reply": "2024-08-02T11:14:10.421657Z",
     "shell.execute_reply.started": "2024-08-02T11:14:10.218994Z"
    }
   },
   "outputs": [
    {
     "data": {
      "image/png": "[encoded data removed]",
      "text/plain": [
       "<Figure size 1200x500 with 1 Axes>"
      ]
     },
     "metadata": {},
     "output_type": "display_data"
    }
   ],
   "source": [
    "# Plot population ratios for a second treatment of TNF with or without the initial TNF stimulation\n",
    "# A figure \"figure_two_steps_ratios.pdf\" is saved\n",
    "figure = plt.figure(figsize = (12,5))\n",
    "plt.rcParams.update({'legend.fontsize': 15})\n",
    "pop_ratios_WT.name = \"Pulse TNF\"\n",
    "pop_ratios_WT.plot(style='.-k', legend=True,fontsize=20)\n",
    "pop_ratios_noTNF.plot(style='.-b', legend=True)\n",
    "pop_ratios_reTNF.plot(style='.-r', legend=True)\n",
    "pop_ratios_noTNF_reTNF.plot(style='.-g', legend=True)\n",
    "save_figure(figure, 'two_steps_ratios')"
   ]
  },
  {
   "cell_type": "markdown",
   "metadata": {},
   "source": [
    "Based on these results, we conclude that the population that has received an initial treatment of TNF shows a resistance to the second TNF treatment, as the corresponding population ratio (in red) barely decreases compared to that of the population not submitted to an initial TNF pulse (in green). \n",
    "\n",
    "In conclusion, the cells that have not been treated previously  (in blue and green) respond better to the TNF treatment compared to those that have been previously treated (in black and red)."
   ]
  },
  {
   "cell_type": "markdown",
   "metadata": {},
   "source": [
    "### Study TNF resistance"
   ]
  },
  {
   "cell_type": "markdown",
   "metadata": {},
   "source": [
    "In this section, we study the conditions for TNF resistance by simulating single mutants of all 26 internal variables of the model. Each model mutant is defined by fixing the value of the corresponding variable to 0 (deletion) whatever its logical rule. \n",
    "\n",
    "The four scenarios combining initial and secondary TNF treatments are simulated for each of the mutant:\n",
    "- no pulse of TNF followed by no TNF, \n",
    "- no pulse of TNF followed by TNF, \n",
    "- pulse of TNF followed by no TNF, \n",
    "- pulse of TNF followed by TNF.\n",
    "\n",
    "A folder \"TNF_sensitivity\" is created in the working folder, which includes both WT and mutant simulations."
   ]
  },
  {
   "cell_type": "code",
   "execution_count": 14,
   "metadata": {
    "execution": {
     "iopub.execute_input": "2024-08-02T11:14:10.422618Z",
     "iopub.status.busy": "2024-08-02T11:14:10.422495Z",
     "iopub.status.idle": "2024-08-02T11:14:10.427091Z",
     "shell.execute_reply": "2024-08-02T11:14:10.426798Z",
     "shell.execute_reply.started": "2024-08-02T11:14:10.422608Z"
    }
   },
   "outputs": [],
   "source": [
    "workdir = 'TNF_sensitivity'\n",
    "\n",
    "def tnf_effect(workdir, model, name, df=None):\n",
    "    \"explore the effect of TNF in a given model variant\"\n",
    "    \n",
    "    if df is None:\n",
    "        df = pd.DataFrame()\n",
    "    \n",
    "    # Configuration of the model variants corresponding to combinations \n",
    "    # of (no) initial and secondary treatments\n",
    "    model_pulse = model\n",
    "    model_nopulse = model.copy()\n",
    "    model_nopulse.network.set_istate('TNF', [1,0])\n",
    "    \n",
    "    model_tnf = maboss.copy_and_update_parameters(model, {'$TNF_induc':20})\n",
    "    model_notnf = model\n",
    "    \n",
    "    # storage of all runs\n",
    "    runs = {}\n",
    "    \n",
    "    # Simulations of no initial TNF pulse, then with or without constitutive TNF\n",
    "    uppModel_no_pulse = maboss.UpdatePopulation(model_nopulse, upp_file)\n",
    "    run_no_pulse = uppModel_no_pulse.run(os.path.join(workdir, name, 'nopulse'))\n",
    "    \n",
    "    uppModel_notnf = maboss.UpdatePopulation(model_notnf, upp_file, previous_run=run_no_pulse)\n",
    "    runs['No pulse TNF, no TNF'] = uppModel_notnf.run(os.path.join(workdir, name, 'noPulse_noTNF'))\n",
    "    uppModel_tnf = maboss.UpdatePopulation(model_tnf, upp_file, previous_run=run_no_pulse)\n",
    "    runs['No pulse TNF, TNF'] = uppModel_tnf.run(os.path.join(workdir, name, 'noPulse_TNF'))\n",
    "    \n",
    "    # Simulations of initial TNF pulse, then with or without constitutive TNF\n",
    "    uppModel_pulse = maboss.UpdatePopulation(model_pulse, upp_file)\n",
    "    run_pulse = uppModel_pulse.run(os.path.join(workdir, name, 'pulse'))\n",
    "    \n",
    "    uppModel_notnf = maboss.UpdatePopulation(model_notnf, upp_file, previous_run=run_pulse)\n",
    "    runs['Pulse TNF, no TNF'] = uppModel_notnf.run(os.path.join(workdir, name, 'pulse_noTNF'))\n",
    "    uppModel_tnf = maboss.UpdatePopulation(model_tnf, upp_file, previous_run=run_pulse)\n",
    "    runs['Pulse TNF, TNF'] = uppModel_tnf.run(os.path.join(workdir, name, 'pulse_TNF'))\n",
    "\n",
    "    # Collection of population ratios\n",
    "    for key in runs:\n",
    "        pop_ratios = runs[key].get_population_ratios(key)\n",
    "        if key not in df.columns:\n",
    "            df[key] = pd.Series(name=name, dtype=np.float)\n",
    "        df.at[name, key] = pop_ratios.iloc[-1]\n",
    "\n",
    "    return df"
   ]
  },
  {
   "cell_type": "markdown",
   "metadata": {},
   "source": [
    "The following code launches the simulations for all 26 mutants and for the four protocols considered.\n",
    "\n",
    "Note that this could take a while, depending on your computer, it might take several hours."
   ]
  },
  {
   "cell_type": "code",
   "execution_count": 15,
   "metadata": {
    "execution": {
     "iopub.execute_input": "2024-08-02T11:14:10.427567Z",
     "iopub.status.busy": "2024-08-02T11:14:10.427457Z",
     "iopub.status.idle": "2024-08-02T11:15:11.929668Z",
     "shell.execute_reply": "2024-08-02T11:15:11.928977Z",
     "shell.execute_reply.started": "2024-08-02T11:14:10.427557Z"
    }
   },
   "outputs": [
    {
     "ename": "AttributeError",
     "evalue": "module 'numpy' has no attribute 'float'.\n`np.float` was a deprecated alias for the builtin `float`. To avoid this error in existing code, use `float` by itself. Doing this will not modify any behavior and is safe. If you specifically wanted the numpy scalar type, use `np.float64` here.\nThe aliases was originally deprecated in NumPy 1.20; for more details and guidance see the original release note at:\n    https://numpy.org/devdocs/release/1.20.0-notes.html#deprecations",
     "output_type": "error",
     "traceback": [
      "\u001b[0;31m---------------------------------------------------------------------------\u001b[0m",
      "\u001b[0;31mAttributeError\u001b[0m                            Traceback (most recent call last)",
      "Cell \u001b[0;32mIn[15], line 2\u001b[0m\n\u001b[1;32m      1\u001b[0m \u001b[38;5;66;03m# TNF sensitivity for the WT model\u001b[39;00m\n\u001b[0;32m----> 2\u001b[0m ratios \u001b[38;5;241m=\u001b[39m \u001b[43mtnf_effect\u001b[49m\u001b[43m(\u001b[49m\u001b[43mworkdir\u001b[49m\u001b[43m,\u001b[49m\u001b[43m \u001b[49m\u001b[43mmodel_WT\u001b[49m\u001b[43m,\u001b[49m\u001b[43m \u001b[49m\u001b[38;5;124;43m'\u001b[39;49m\u001b[38;5;124;43mWT\u001b[39;49m\u001b[38;5;124;43m'\u001b[39;49m\u001b[43m)\u001b[49m\n\u001b[1;32m      4\u001b[0m \u001b[38;5;66;03m# List of all mutations to test\u001b[39;00m\n\u001b[1;32m      5\u001b[0m \u001b[38;5;66;03m# Here all species will be mutated except for the output nodes\u001b[39;00m\n\u001b[1;32m      6\u001b[0m excluded \u001b[38;5;241m=\u001b[39m \u001b[38;5;28mset\u001b[39m( ( \u001b[38;5;124m'\u001b[39m\u001b[38;5;124mNonACD\u001b[39m\u001b[38;5;124m'\u001b[39m, \u001b[38;5;124m'\u001b[39m\u001b[38;5;124mApoptosis\u001b[39m\u001b[38;5;124m'\u001b[39m, \u001b[38;5;124m'\u001b[39m\u001b[38;5;124mSurvival\u001b[39m\u001b[38;5;124m'\u001b[39m, \u001b[38;5;124m'\u001b[39m\u001b[38;5;124mDivision\u001b[39m\u001b[38;5;124m'\u001b[39m, \u001b[38;5;124m'\u001b[39m\u001b[38;5;124mDeath\u001b[39m\u001b[38;5;124m'\u001b[39m, \u001b[38;5;124m'\u001b[39m\u001b[38;5;124mTNF\u001b[39m\u001b[38;5;124m'\u001b[39m, \u001b[38;5;124m'\u001b[39m\u001b[38;5;124mapoptosome\u001b[39m\u001b[38;5;124m'\u001b[39m) )\n",
      "Cell \u001b[0;32mIn[14], line 43\u001b[0m, in \u001b[0;36mtnf_effect\u001b[0;34m(workdir, model, name, df)\u001b[0m\n\u001b[1;32m     41\u001b[0m     pop_ratios \u001b[38;5;241m=\u001b[39m runs[key]\u001b[38;5;241m.\u001b[39mget_population_ratios(key)\n\u001b[1;32m     42\u001b[0m     \u001b[38;5;28;01mif\u001b[39;00m key \u001b[38;5;129;01mnot\u001b[39;00m \u001b[38;5;129;01min\u001b[39;00m df\u001b[38;5;241m.\u001b[39mcolumns:\n\u001b[0;32m---> 43\u001b[0m         df[key] \u001b[38;5;241m=\u001b[39m pd\u001b[38;5;241m.\u001b[39mSeries(name\u001b[38;5;241m=\u001b[39mname, dtype\u001b[38;5;241m=\u001b[39m\u001b[43mnp\u001b[49m\u001b[38;5;241;43m.\u001b[39;49m\u001b[43mfloat\u001b[49m)\n\u001b[1;32m     44\u001b[0m     df\u001b[38;5;241m.\u001b[39mat[name, key] \u001b[38;5;241m=\u001b[39m pop_ratios\u001b[38;5;241m.\u001b[39miloc[\u001b[38;5;241m-\u001b[39m\u001b[38;5;241m1\u001b[39m]\n\u001b[1;32m     46\u001b[0m \u001b[38;5;28;01mreturn\u001b[39;00m df\n",
      "File \u001b[0;32m~/.miniconda3/envs/cmaboss/lib/python3.12/site-packages/numpy/__init__.py:394\u001b[0m, in \u001b[0;36m__getattr__\u001b[0;34m(attr)\u001b[0m\n\u001b[1;32m    389\u001b[0m     warnings\u001b[38;5;241m.\u001b[39mwarn(\n\u001b[1;32m    390\u001b[0m         \u001b[38;5;124mf\u001b[39m\u001b[38;5;124m\"\u001b[39m\u001b[38;5;124mIn the future `np.\u001b[39m\u001b[38;5;132;01m{\u001b[39;00mattr\u001b[38;5;132;01m}\u001b[39;00m\u001b[38;5;124m` will be defined as the \u001b[39m\u001b[38;5;124m\"\u001b[39m\n\u001b[1;32m    391\u001b[0m         \u001b[38;5;124m\"\u001b[39m\u001b[38;5;124mcorresponding NumPy scalar.\u001b[39m\u001b[38;5;124m\"\u001b[39m, \u001b[38;5;167;01mFutureWarning\u001b[39;00m, stacklevel\u001b[38;5;241m=\u001b[39m\u001b[38;5;241m2\u001b[39m)\n\u001b[1;32m    393\u001b[0m \u001b[38;5;28;01mif\u001b[39;00m attr \u001b[38;5;129;01min\u001b[39;00m __former_attrs__:\n\u001b[0;32m--> 394\u001b[0m     \u001b[38;5;28;01mraise\u001b[39;00m \u001b[38;5;167;01mAttributeError\u001b[39;00m(__former_attrs__[attr])\n\u001b[1;32m    396\u001b[0m \u001b[38;5;28;01mif\u001b[39;00m attr \u001b[38;5;129;01min\u001b[39;00m __expired_attributes__:\n\u001b[1;32m    397\u001b[0m     \u001b[38;5;28;01mraise\u001b[39;00m \u001b[38;5;167;01mAttributeError\u001b[39;00m(\n\u001b[1;32m    398\u001b[0m         \u001b[38;5;124mf\u001b[39m\u001b[38;5;124m\"\u001b[39m\u001b[38;5;124m`np.\u001b[39m\u001b[38;5;132;01m{\u001b[39;00mattr\u001b[38;5;132;01m}\u001b[39;00m\u001b[38;5;124m` was removed in the NumPy 2.0 release. \u001b[39m\u001b[38;5;124m\"\u001b[39m\n\u001b[1;32m    399\u001b[0m         \u001b[38;5;124mf\u001b[39m\u001b[38;5;124m\"\u001b[39m\u001b[38;5;132;01m{\u001b[39;00m__expired_attributes__[attr]\u001b[38;5;132;01m}\u001b[39;00m\u001b[38;5;124m\"\u001b[39m\n\u001b[1;32m    400\u001b[0m     )\n",
      "\u001b[0;31mAttributeError\u001b[0m: module 'numpy' has no attribute 'float'.\n`np.float` was a deprecated alias for the builtin `float`. To avoid this error in existing code, use `float` by itself. Doing this will not modify any behavior and is safe. If you specifically wanted the numpy scalar type, use `np.float64` here.\nThe aliases was originally deprecated in NumPy 1.20; for more details and guidance see the original release note at:\n    https://numpy.org/devdocs/release/1.20.0-notes.html#deprecations"
     ]
    }
   ],
   "source": [
    "# TNF sensitivity for the WT model\n",
    "ratios = tnf_effect(workdir, model_WT, 'WT')\n",
    "\n",
    "# List of all mutations to test\n",
    "# Here all species will be mutated except for the output nodes\n",
    "excluded = set( ( 'NonACD', 'Apoptosis', 'Survival', 'Division', 'Death', 'TNF', 'apoptosome') )\n",
    "nodes = [ n for n in model_WT.network.names if n not in excluded ]\n",
    "nodes.sort()\n",
    "\n",
    "\n",
    "# TNF sensitivity for each mutant of the model\n",
    "for mutant_node in nodes:\n",
    "    print(mutant_node, end=' ')\n",
    "    mut_model = maboss.copy_and_mutate(model_WT, [mutant_node], 'OFF')\n",
    "    tnf_effect(workdir, mut_model, '%s' % mutant_node, ratios)"
   ]
  },
  {
   "cell_type": "markdown",
   "metadata": {},
   "source": [
    "The final results are diplayed in terms of population ratios (white = 0 to black = 1) at 96h for each mutant in the form of a matrix using the following comand lines:"
   ]
  },
  {
   "cell_type": "code",
   "execution_count": null,
   "metadata": {
    "execution": {
     "iopub.status.busy": "2024-08-02T11:15:11.930090Z",
     "iopub.status.idle": "2024-08-02T11:15:11.930244Z",
     "shell.execute_reply": "2024-08-02T11:15:11.930180Z",
     "shell.execute_reply.started": "2024-08-02T11:15:11.930173Z"
    },
    "scrolled": true
   },
   "outputs": [],
   "source": [
    "# Display the TNF sensitivity results for the WT condition and for all mutants \n",
    "figure = plt.figure(figsize = (10,10))\n",
    "sns.set(font_scale=1.5)\n",
    "sns.heatmap(ratios, annot=False, cmap=colormap_scale, linewidths=1)\n",
    "save_figure(figure, 'heatmap')"
   ]
  },
  {
   "cell_type": "markdown",
   "metadata": {},
   "source": [
    "In this matrix the protocols involving \"No initial TNF treatment\" (No pulse TNF) and \"Initial TNF treatment\" (Pulse TNF) are displayed separately. "
   ]
  },
  {
   "cell_type": "markdown",
   "metadata": {},
   "source": [
    "We can further process these simulation results to display the relative changes in population ratio for the two conditions, i.e. when the cells received an initial pulse of TNF treatment or not. The resulting ratios are displayed in a matrix after hierarchical clustering.\n"
   ]
  },
  {
   "cell_type": "code",
   "execution_count": null,
   "metadata": {
    "execution": {
     "iopub.status.busy": "2024-08-02T11:15:11.930827Z",
     "iopub.status.idle": "2024-08-02T11:15:11.930970Z",
     "shell.execute_reply": "2024-08-02T11:15:11.930909Z",
     "shell.execute_reply.started": "2024-08-02T11:15:11.930902Z"
    },
    "scrolled": true
   },
   "outputs": [],
   "source": [
    "# More abstract summary: cluster of the ratios of ratios\n",
    "ratios_ratios = pd.DataFrame()\n",
    "ratios_ratios['Pulse TNF'] = ratios['Pulse TNF, TNF'] / ratios['Pulse TNF, no TNF']\n",
    "ratios_ratios['No pulse TNF'] = ratios['No pulse TNF, TNF'] / ratios['No pulse TNF, no TNF']\n",
    "\n",
    "sns.set(font_scale=1.5)\n",
    "figure = sns.clustermap(ratios_ratios, annot=True, cmap=colormap_ratios, center=1, col_cluster=False)\n",
    "\n",
    "# Add a rectangle around the WT row\n",
    "wt_index = figure.dendrogram_row.reordered_ind.index(0)\n",
    "figure.ax_heatmap.add_patch(Rectangle((0, wt_index), 2, 1, fill=False, edgecolor='red', lw=3))\n",
    "\n",
    "save_figure(figure, 'cluster')"
   ]
  },
  {
   "cell_type": "markdown",
   "metadata": {},
   "source": [
    "The relative changes in population ratio shown in this matrix correspond to the ratios between the population receiving the constitutive TNF treatment at t = 48 hours divided by the control population with no TNF at t = 48 hours. \n",
    "We consider that TNF treatment has an effect when the relative change in population ratio is reduced (ratio value below 1, in blue).\n",
    "\n",
    "A first group of mutants, including IKK and other co-clustered mutants, but also  RIP1 knockdown, show no resistance. Indeed, TNF treatment reduces the population size, whether the cells were pre-treated by TNF or not.\n",
    "\n",
    "For a second group of mutants, including BCL2 (in the upper part) and MPT (in the bottom part) knockdowns, together with the wild type model, TNF constitutive treatment leads to a reduction in population size, but when the cells were pre-treated by a pulse of TNF, this effect disappears, hence indicating a resistance.\n",
    "\n",
    "Finally, TNFR knockdown leads to insensitive cells, as expected."
   ]
  }
 ],
 "metadata": {
  "kernelspec": {
   "display_name": "Python 3 (ipykernel)",
   "language": "python",
   "name": "python3"
  },
  "language_info": {
   "codemirror_mode": {
    "name": "ipython",
    "version": 3
   },
   "file_extension": ".py",
   "mimetype": "text/x-python",
   "name": "python",
   "nbconvert_exporter": "python",
   "pygments_lexer": "ipython3",
   "version": "3.12.3"
  },
  "pycharm": {
   "stem_cell": {
    "cell_type": "raw",
    "metadata": {
     "collapsed": false
    },
    "source": []
   }
  }
 },
 "nbformat": 4,
 "nbformat_minor": 4
}
