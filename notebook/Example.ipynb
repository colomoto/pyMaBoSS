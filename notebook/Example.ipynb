{
 "cells": [
  {
   "cell_type": "markdown",
   "metadata": {},
   "source": [
    "# Example of workflow\n",
    "Here, we reproduce some results obtained in [This article](http://journals.plos.org/ploscompbiol/article?id=10.1371/journal.pcbi.1004571). We start from the .zginml model that can be downloaded [here](https://doi.org/10.1371/journal.pcbi.1004571.s017) (SuppMat_models/SuppMat_Model_Master_Model.zginml)"
   ]
  },
  {
   "cell_type": "code",
   "execution_count": 1,
   "metadata": {},
   "outputs": [
    {
     "data": {
      "text/markdown": [
       "You are using Pint version 2017-09-25 and pypint 1.3.1"
      ],
      "text/plain": [
       "<IPython.core.display.Markdown object>"
      ]
     },
     "metadata": {},
     "output_type": "display_data"
    },
    {
     "data": {
      "text/markdown": [
       "API is documented at https://loicpauleve.name/pint/doc/api.html"
      ],
      "text/plain": [
       "<IPython.core.display.Markdown object>"
      ]
     },
     "metadata": {},
     "output_type": "display_data"
    }
   ],
   "source": [
    "import maboss\n",
    "import ginsim\n",
    "import pypint"
   ]
  },
  {
   "cell_type": "markdown",
   "metadata": {},
   "source": [
    "### Loading the model in the api\n",
    "Go to MaBoSS -> load network (zginml format). And replace the argument of the first function by the loaction of you .zginml file."
   ]
  },
  {
   "cell_type": "code",
   "execution_count": 2,
   "metadata": {},
   "outputs": [],
   "source": [
    "m = ginsim.open(\"/model/Master_Model.zginml\")\n",
    "ginsim.service(\"maboss\").export(m, \"mybndfile.bnd\")\n",
    "master_simulation = maboss.load_file(\"mybndfile.bnd\")"
   ]
  },
  {
   "cell_type": "markdown",
   "metadata": {},
   "source": [
    "### Setting the simulation parameters\n",
    "#### Setting initial states\n",
    "To quickly modify the initial states of several nodes, you can use the widgets `wg_set_istate`. Go to MaBoSS -> network -> set istate."
   ]
  },
  {
   "cell_type": "code",
   "execution_count": 3,
   "metadata": {},
   "outputs": [],
   "source": [
    "#maboss.wg_set_istate(master_simulation.network)\n",
    "nodes = ('Metastasis', 'Migration', 'Invasion', 'EMT', 'Apoptosis', 'CellCycleArrest', 'p21', 'CDH1', 'CDH2', 'VIM', 'TWIST1', 'SNAI1', 'SNAI2', 'ZEB1', 'ZEB2', 'AKT1', 'DKK1', 'CTNNB1', 'NICD', 'p63', 'p53', 'p73', 'miR200', 'miR203', 'miR34', 'AKT2', 'ERK', 'SMAD')\n",
    "istate = [1, 0]\n",
    "for nd in nodes:\n",
    "    master_simulation.network.set_istate(nd, istate)"
   ]
  },
  {
   "cell_type": "code",
   "execution_count": 4,
   "metadata": {},
   "outputs": [],
   "source": [
    "#maboss.wg_set_istate(master_simulation.network)\n",
    "nodes = ('ECMicroenv', 'DNAdamage', 'GF', 'TGFbeta')\n",
    "istate = [0.5, 0.5]\n",
    "for nd in nodes:\n",
    "    master_simulation.network.set_istate(nd, istate)"
   ]
  },
  {
   "cell_type": "code",
   "execution_count": 5,
   "metadata": {},
   "outputs": [],
   "source": [
    "#maboss.wg_set_istate(master_simulation.network)\n",
    "nodes = ('miR200', 'miR203', 'miR34')\n",
    "istate = [0, 1]\n",
    "for nd in nodes:\n",
    "    master_simulation.network.set_istate(nd, istate)"
   ]
  },
  {
   "cell_type": "markdown",
   "metadata": {},
   "source": [
    "#### Setting output\n",
    "You can use the widget `wg_set_output` to set the output of the simulation (MaBoSS -> Simulation -> Set output)."
   ]
  },
  {
   "cell_type": "code",
   "execution_count": 6,
   "metadata": {},
   "outputs": [],
   "source": [
    "#maboss.wg_set_output(master_simulation)\n",
    "master_simulation.network.set_output(('Metastasis', 'Migration', 'Invasion', 'EMT', 'Apoptosis', 'CellCycleArrest'))"
   ]
  },
  {
   "cell_type": "markdown",
   "metadata": {},
   "source": [
    "#### Setting other parameters\n",
    "To modify other parameters of the simulation, you can use the method `update_parameters` of the simulation object."
   ]
  },
  {
   "cell_type": "code",
   "execution_count": 7,
   "metadata": {},
   "outputs": [],
   "source": [
    "master_simulation.update_parameters(discrete_time=0, use_physrandgen=0,\n",
    "                                    seed_pseudorandom=100, sample_count=50000,\n",
    "                                    max_time=50, time_tick=0.1, thread_count=4,\n",
    "                                    statdist_traj_count=100, statdist_cluster_threshold=0.9)"
   ]
  },
  {
   "cell_type": "markdown",
   "metadata": {},
   "source": [
    "## Runing simulation\n",
    "Runing the simulation will create a `Result` object that holds the results of the simulation. You can quickly write the line below by going to MaBoSS -> Simulation -> run"
   ]
  },
  {
   "cell_type": "code",
   "execution_count": 8,
   "metadata": {},
   "outputs": [
    {
     "name": "stdout",
     "output_type": "stream",
     "text": [
      "MaBoSS ended successfuly\n"
     ]
    }
   ],
   "source": [
    "master_results = master_simulation.run()"
   ]
  },
  {
   "cell_type": "code",
   "execution_count": 9,
   "metadata": {},
   "outputs": [
    {
     "data": {
      "image/png": "[encoded data removed]",
      "text/plain": [
       "<matplotlib.figure.Figure at 0x7f261c9a73c8>"
      ]
     },
     "execution_count": 9,
     "metadata": {},
     "output_type": "execute_result"
    }
   ],
   "source": [
    "fig = master_results.plot_piechart()\n",
    "fig"
   ]
  },
  {
   "cell_type": "code",
   "execution_count": 10,
   "metadata": {},
   "outputs": [
    {
     "data": {
      "text/markdown": [
       "Source file is in zginml format, importing with GINsim"
      ],
      "text/plain": [
       "<IPython.core.display.Markdown object>"
      ]
     },
     "metadata": {},
     "output_type": "display_data"
    },
    {
     "data": {
      "text/markdown": [
       "Simplifying model..."
      ],
      "text/plain": [
       "<IPython.core.display.Markdown object>"
      ]
     },
     "metadata": {},
     "output_type": "display_data"
    },
    {
     "data": {
      "text/html": [
       "<a href='gen/colomoto7fszydfjMaster_Model.an' target='_blank'>gen/colomoto7fszydfjMaster_Model.an</a><br>"
      ],
      "text/plain": [
       "/notebook/pyMaBoSS/gen/colomoto7fszydfjMaster_Model.an"
      ]
     },
     "metadata": {},
     "output_type": "display_data"
    },
    {
     "data": {
      "text/markdown": [
       "1 state(s) have been registered: initState_1"
      ],
      "text/plain": [
       "<IPython.core.display.Markdown object>"
      ]
     },
     "metadata": {},
     "output_type": "display_data"
    }
   ],
   "source": [
    "model = pypint.load(\"/model/Master_Model.zginml\")"
   ]
  },
  {
   "cell_type": "code",
   "execution_count": 11,
   "metadata": {},
   "outputs": [
    {
     "name": "stdout",
     "output_type": "stream",
     "text": [
      "{'ECMicroenv': (0, 1), 'DNAdamage': (0, 1), 'GF': (0, 1), 'TGFbeta': (0, 1), 'Metastasis': 0, 'Migration': 0, 'Invasion': 0, 'EMT': 0, 'Apoptosis': 0, 'CellCycleArrest': 0, 'p21': 0, 'CDH1': 0, 'CDH2': 0, 'VIM': 0, 'TWIST1': 0, 'SNAI1': 0, 'SNAI2': 0, 'ZEB1': 0, 'ZEB2': 0, 'AKT1': 0, 'DKK1': 0, 'CTNNB1': 0, 'NICD': 0, 'p63': 0, 'p53': 0, 'p73': 0, 'miR200': 1, 'miR203': 1, 'miR34': 1, 'AKT2': 0, 'ERK': 0, 'SMAD': 0}\n"
     ]
    }
   ],
   "source": [
    "maboss.widgets.network.wg_transfer_istate(master_simulation.network, model)"
   ]
  },
  {
   "cell_type": "code",
   "execution_count": 12,
   "metadata": {},
   "outputs": [
    {
     "data": {
      "text/markdown": [
       "This computation is an *under-approximation*: returned mutations are all valid, but they may be non-minimal, and some solutions may be missed."
      ],
      "text/plain": [
       "<IPython.core.display.Markdown object>"
      ]
     },
     "metadata": {},
     "output_type": "display_data"
    },
    {
     "data": {
      "text/markdown": [
       "Limiting solutions to mutations of at most 5 automata. Use `maxsize` argument to change."
      ],
      "text/plain": [
       "<IPython.core.display.Markdown object>"
      ]
     },
     "metadata": {},
     "output_type": "display_data"
    },
    {
     "data": {
      "text/plain": [
       "[{'Migration': 0},\n",
       " {'Invasion': 0},\n",
       " {'EMT': 0},\n",
       " {'CDH1': 1},\n",
       " {'CDH2': 0},\n",
       " {'VIM': 0},\n",
       " {'TWIST1': 0},\n",
       " {'AKT1': 1},\n",
       " {'p63': 1},\n",
       " {'p53': 1},\n",
       " {'p73': 1},\n",
       " {'miR200': 1},\n",
       " {'miR203': 1},\n",
       " {'miR34': 1},\n",
       " {'AKT2': 0},\n",
       " {'ERK': 0},\n",
       " {'CDH2': 1, 'TGFbeta': 0},\n",
       " {'DKK1': 1, 'TGFbeta': 0},\n",
       " {'CTNNB1': 0, 'TGFbeta': 0},\n",
       " {'CDH2': 1, 'ZEB2': 0},\n",
       " {'CDH2': 1, 'NICD': 0},\n",
       " {'CDH2': 1, 'SMAD': 0},\n",
       " {'DKK1': 1, 'ZEB2': 0},\n",
       " {'CTNNB1': 0, 'ZEB2': 0},\n",
       " {'DKK1': 1, 'NICD': 0},\n",
       " {'DKK1': 1, 'SMAD': 0},\n",
       " {'CTNNB1': 0, 'NICD': 0},\n",
       " {'CTNNB1': 0, 'SMAD': 0}]"
      ]
     },
     "execution_count": 12,
     "metadata": {},
     "output_type": "execute_result"
    }
   ],
   "source": [
    "model.oneshot_mutations_for_cut(Metastasis=1, exclude={\"DNAdamage\", \"ECMicroenv\"})"
   ]
  },
  {
   "cell_type": "code",
   "execution_count": 13,
   "metadata": {},
   "outputs": [],
   "source": [
    "master_results._fpfig = None"
   ]
  },
  {
   "cell_type": "code",
   "execution_count": 14,
   "metadata": {},
   "outputs": [
    {
     "name": "stdout",
     "output_type": "stream",
     "text": [
      "   FP    Proba                                              State  ECMicroenv  \\\n",
      "0  #1  0.00154  DNAdamage -- GF -- CDH2 -- EMT -- VIM -- AKT2 ...           0   \n",
      "1  #2  0.11802  ECMicroenv -- DNAdamage -- CDH1 -- TGFbeta -- ...           1   \n",
      "2  #3  0.12914  ECMicroenv -- DNAdamage -- CDH1 -- TGFbeta -- ...           1   \n",
      "3  #4  0.24780  ECMicroenv -- GF -- CDH2 -- NICD -- TGFbeta --...           1   \n",
      "4  #5  0.12174  DNAdamage -- CDH1 -- p63 -- miR200 -- p73 -- A...           0   \n",
      "5  #6  0.00612  ECMicroenv -- DNAdamage -- GF -- CDH2 -- NICD ...           1   \n",
      "6  #7  0.12526  DNAdamage -- CDH1 -- miR200 -- p53 -- Apoptosi...           0   \n",
      "7  #8  0.01048  GF -- CDH2 -- EMT -- VIM -- AKT2 -- ERK -- ZEB...           0   \n",
      "8  #9  0.23988                                               CDH1           0   \n",
      "\n",
      "   DNAdamage  GF  CDH1  CDH2  CTNNB1  NICD  ...   miR34  Apoptosis  p21  \\\n",
      "0          1   1     0     1       0     0  ...       0          0    0   \n",
      "1          1   0     1     0       0     0  ...       0          1    1   \n",
      "2          1   0     1     0       0     0  ...       0          1    1   \n",
      "3          0   1     0     1       0     1  ...       0          0    0   \n",
      "4          1   0     1     0       0     0  ...       0          1    1   \n",
      "5          1   1     0     1       0     1  ...       0          0    0   \n",
      "6          1   0     1     0       0     0  ...       0          1    1   \n",
      "7          0   1     0     1       0     0  ...       0          0    0   \n",
      "8          0   0     1     0       0     0  ...       0          0    0   \n",
      "\n",
      "   miR203  CellCycleArrest  TWIST1  SNAI1  SNAI2  ZEB1  DKK1  \n",
      "0       0                1       1      1      1     1     0  \n",
      "1       0                1       0      0      0     0     0  \n",
      "2       1                1       0      0      0     0     0  \n",
      "3       0                1       1      1      1     1     1  \n",
      "4       0                1       0      0      0     0     0  \n",
      "5       0                1       1      1      1     1     1  \n",
      "6       1                1       0      0      0     0     0  \n",
      "7       0                1       1      1      1     1     0  \n",
      "8       0                0       0      0      0     0     0  \n",
      "\n",
      "[9 rows x 35 columns]\n"
     ]
    },
    {
     "data": {
      "image/png": "[encoded data removed]",
      "text/plain": [
       "<matplotlib.figure.Figure at 0x7f261c6bb128>"
      ]
     },
     "execution_count": 14,
     "metadata": {},
     "output_type": "execute_result"
    }
   ],
   "source": [
    "master_results.plot_fixpoint()"
   ]
  }
 ],
 "metadata": {
  "kernelspec": {
   "display_name": "Python 3",
   "language": "python",
   "name": "python3"
  },
  "language_info": {
   "codemirror_mode": {
    "name": "ipython",
    "version": 3
   },
   "file_extension": ".py",
   "mimetype": "text/x-python",
   "name": "python",
   "nbconvert_exporter": "python",
   "pygments_lexer": "ipython3",
   "version": "3.6.3"
  }
 },
 "nbformat": 4,
 "nbformat_minor": 2
}
